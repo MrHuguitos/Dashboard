{
  "nbformat": 4,
  "nbformat_minor": 0,
  "metadata": {
    "colab": {
      "provenance": [],
      "collapsed_sections": [
        "N_hQUWu5atsY",
        "O7IbgCVjbLuG",
        "U03pH9hMbYxj"
      ],
      "authorship_tag": "ABX9TyO2RgV5iytfiSQWcAt1wEpe",
      "include_colab_link": true
    },
    "kernelspec": {
      "name": "python3",
      "display_name": "Python 3"
    },
    "language_info": {
      "name": "python"
    }
  },
  "cells": [
    {
      "cell_type": "markdown",
      "metadata": {
        "id": "view-in-github",
        "colab_type": "text"
      },
      "source": [
        "<a href=\"https://colab.research.google.com/github/MrHuguitos/Dashboard/blob/main/Dashboard.ipynb\" target=\"_parent\"><img src=\"https://colab.research.google.com/assets/colab-badge.svg\" alt=\"Open In Colab\"/></a>"
      ]
    },
    {
      "cell_type": "markdown",
      "source": [
        "# Bibliotecas"
      ],
      "metadata": {
        "id": "N_hQUWu5atsY"
      }
    },
    {
      "cell_type": "code",
      "execution_count": null,
      "metadata": {
        "id": "lZ4Rxz4DacAb"
      },
      "outputs": [],
      "source": [
        "from google.colab import drive\n",
        "drive.mount('/content/drive')\n",
        "!pip install pygwalker\n",
        "\n",
        "import pygwalker as pyg\n",
        "import plotly.express as px\n",
        "import pandas as pd\n",
        "print(\"Config Complete\")"
      ]
    },
    {
      "cell_type": "markdown",
      "source": [
        "# Importação de arquivos"
      ],
      "metadata": {
        "id": "O7IbgCVjbLuG"
      }
    },
    {
      "cell_type": "code",
      "source": [
        "#Janeiro de 2013\n",
        "d2013_01 = \"/content/drive/MyDrive/Dados/2013/Cópia de 201301_CPGF.csv\"\n",
        "dados_201301 = pd.read_csv(d2013_01, encoding = 'ISO-8859-1', sep = \";\")\n",
        "#Fevereiro de 2013\n",
        "d2013_02 = \"/content/drive/MyDrive/Dados/2013/Cópia de 201302_CPGF.csv\"\n",
        "dados_201302 = pd.read_csv(d2013_02, encoding = 'ISO-8859-1', sep = \";\")\n",
        "#Março de 2013\n",
        "d2013_03 = \"/content/drive/MyDrive/Dados/2013/Cópia de 201303_CPGF.csv\"\n",
        "dados_201303 = pd.read_csv(d2013_03, encoding = 'ISO-8859-1', sep = \";\")\n",
        "#Abril de 2013\n",
        "d2013_04 = \"/content/drive/MyDrive/Dados/2013/Cópia de 201304_CPGF.csv\"\n",
        "dados_201304 = pd.read_csv(d2013_04, encoding = 'ISO-8859-1', sep = \";\")\n",
        "#Maio de 2013\n",
        "d2013_05 = \"/content/drive/MyDrive/Dados/2013/Cópia de 201305_CPGF.csv\"\n",
        "dados_201305 = pd.read_csv(d2013_05, encoding = 'ISO-8859-1', sep = \";\")\n",
        "#Junho de 2013\n",
        "d2013_06 = \"/content/drive/MyDrive/Dados/2013/Cópia de 201306_CPGF.csv\"\n",
        "dados_201306 = pd.read_csv(d2013_06, encoding = 'ISO-8859-1', sep = \";\")\n",
        "#Julho de 2013\n",
        "d2013_07 = \"/content/drive/MyDrive/Dados/2013/Cópia de 201307_CPGF.csv\"\n",
        "dados_201307 = pd.read_csv(d2013_07, encoding = 'ISO-8859-1', sep = \";\")\n",
        "#Agosto de 2013\n",
        "d2013_08 = \"/content/drive/MyDrive/Dados/2013/Cópia de 201308_CPGF.csv\"\n",
        "dados_201308 = pd.read_csv(d2013_08, encoding = 'ISO-8859-1', sep = \";\")\n",
        "#Setembro de 2013\n",
        "d2013_09 = \"/content/drive/MyDrive/Dados/2013/Cópia de 201309_CPGF.csv\"\n",
        "dados_201309 = pd.read_csv(d2013_09, encoding = 'ISO-8859-1', sep = \";\")\n",
        "#Outubro de 2013\n",
        "d2013_10 = \"/content/drive/MyDrive/Dados/2013/Cópia de 201310_CPGF.csv\"\n",
        "dados_201310 = pd.read_csv(d2013_10, encoding = 'ISO-8859-1', sep = \";\")\n",
        "#Novembro de 2013\n",
        "d2013_11 = \"/content/drive/MyDrive/Dados/2013/Cópia de 201311_CPGF.csv\"\n",
        "dados_201311 = pd.read_csv(d2013_11, encoding = 'ISO-8859-1', sep = \";\")\n",
        "#Dezembro de 2013\n",
        "d2013_12 = \"/content/drive/MyDrive/Dados/2013/Cópia de 201312_CPGF.csv\"\n",
        "dados_201312 = pd.read_csv(d2013_12, encoding = 'ISO-8859-1', sep = \";\")\n",
        "#Junção de todos os meses de 2013\n",
        "A2013 = pd.concat([dados_201301, dados_201302, dados_201303, dados_201304, dados_201305, dados_201306, dados_201307, dados_201308, dados_201309, dados_201310, dados_201311, dados_201312])"
      ],
      "metadata": {
        "id": "HWTmdFTm_2DF"
      },
      "execution_count": null,
      "outputs": []
    },
    {
      "cell_type": "markdown",
      "source": [
        "# Exibição"
      ],
      "metadata": {
        "id": "U03pH9hMbYxj"
      }
    },
    {
      "cell_type": "code",
      "source": [
        "result_df = pd.DataFrame(columns=['ANO', 'VALOR', 'INFORMAÇÕES'])\n",
        "\n",
        "for ano in range(2013, 2024):\n",
        "\n",
        "    filtered_data1 = ANOS[(ANOS['ANO EXTRATO'].astype(int) == ano)]\n",
        "    filtered_data2 = filtered_data1.loc[filtered_data1['CÓDIGO ÓRGÃO SUPERIOR'] == 20000]\n",
        "\n",
        "    filtered_case_1 = filtered_data2.loc[filtered_data2['CNPJ OU CPF FAVORECIDO'] == -1]\n",
        "    filtered_case_2 = filtered_data2.loc[filtered_data2['CNPJ OU CPF FAVORECIDO'] == -2]\n",
        "    filtered_case_11 = filtered_data2.loc[filtered_data2['CNPJ OU CPF FAVORECIDO'] == -11]\n",
        "\n",
        "    filtered_case_1['VALOR TRANSAÇÃO'] = filtered_case_1['VALOR TRANSAÇÃO'].astype(str).str.replace(',', '.').astype(float)\n",
        "    filtered_case_2['VALOR TRANSAÇÃO'] = filtered_case_2['VALOR TRANSAÇÃO'].astype(str).str.replace(',', '.').astype(float)\n",
        "    filtered_case_11['VALOR TRANSAÇÃO'] = filtered_case_11['VALOR TRANSAÇÃO'].astype(str).str.replace(',', '.').astype(float)\n",
        "    filtered_data2['VALOR TRANSAÇÃO'] = filtered_data2['VALOR TRANSAÇÃO'].astype(str).str.replace(',', '.').astype(float)\n",
        "\n",
        "    # Somar os valores da coluna 'VALOR TRANSAÇÃO' para os casos filtrados\n",
        "    soma_valores_caso1 = filtered_case_1['VALOR TRANSAÇÃO'].sum()\n",
        "    soma_valores_caso2 = filtered_case_2['VALOR TRANSAÇÃO'].sum()\n",
        "    soma_valores_caso11 = filtered_case_11['VALOR TRANSAÇÃO'].sum()\n",
        "    soma_valores_total = filtered_data2['VALOR TRANSAÇÃO'].sum()\n",
        "    valor = soma_valores_total - (soma_valores_caso1 + soma_valores_caso2 + soma_valores_caso11)\n",
        "\n",
        "\n",
        "    # Adicionar os resultados ao DataFrame\n",
        "    result_df = result_df.append({'ANO': ano,\n",
        "                                  'VALOR': valor,\n",
        "                                  'INFORMAÇÕES': 'Informações Visivéis'}, ignore_index=True)\n",
        "    result_df = result_df.append({'ANO': ano,\n",
        "                                  'VALOR': soma_valores_caso1,\n",
        "                                  'INFORMAÇÕES': 'Sem Informação'}, ignore_index=True)\n",
        "    result_df = result_df.append({'ANO': ano,\n",
        "                                  'VALOR': soma_valores_caso2,\n",
        "                                  'INFORMAÇÕES': 'Não se Aplica'}, ignore_index=True)\n",
        "    result_df = result_df.append({'ANO': ano,\n",
        "                                  'VALOR': soma_valores_caso11,\n",
        "                                  'INFORMAÇÕES': 'Sigiloso'}, ignore_index=True)\n",
        "\n",
        "vis_spec = r\"\"\"{\"config\":\"[{\\\"visId\\\":\\\"gw_pyeo\\\",\\\"name\\\":\\\"Chart 1\\\",\\\"encodings\\\":{\\\"dimensions\\\":[{\\\"dragId\\\":\\\"gw_h9zq\\\",\\\"fid\\\":\\\"GW_3KUQJDWW\\\",\\\"name\\\":\\\"ANO\\\",\\\"basename\\\":\\\"ANO\\\",\\\"semanticType\\\":\\\"nominal\\\",\\\"analyticType\\\":\\\"dimension\\\"},{\\\"dragId\\\":\\\"gw_-H6M\\\",\\\"fid\\\":\\\"GW_LYXXXB98IDH8DLXO1WWNFOW\\\",\\\"name\\\":\\\"INFORMAÇÕES\\\",\\\"basename\\\":\\\"INFORMAÇÕES\\\",\\\"semanticType\\\":\\\"nominal\\\",\\\"analyticType\\\":\\\"dimension\\\"}],\\\"measures\\\":[{\\\"dragId\\\":\\\"gw_u_iQ\\\",\\\"fid\\\":\\\"GW_6N2272UBN00\\\",\\\"name\\\":\\\"VALOR\\\",\\\"basename\\\":\\\"VALOR\\\",\\\"analyticType\\\":\\\"measure\\\",\\\"semanticType\\\":\\\"quantitative\\\",\\\"aggName\\\":\\\"sum\\\"},{\\\"dragId\\\":\\\"gw_count_fid\\\",\\\"fid\\\":\\\"gw_count_fid\\\",\\\"name\\\":\\\"Row count\\\",\\\"analyticType\\\":\\\"measure\\\",\\\"semanticType\\\":\\\"quantitative\\\",\\\"aggName\\\":\\\"sum\\\",\\\"computed\\\":true,\\\"expression\\\":{\\\"op\\\":\\\"one\\\",\\\"params\\\":[],\\\"as\\\":\\\"gw_count_fid\\\"}}],\\\"rows\\\":[{\\\"dragId\\\":\\\"gw_5A2q\\\",\\\"fid\\\":\\\"GW_6N2272UBN00\\\",\\\"name\\\":\\\"VALOR\\\",\\\"basename\\\":\\\"VALOR\\\",\\\"analyticType\\\":\\\"measure\\\",\\\"semanticType\\\":\\\"quantitative\\\",\\\"aggName\\\":\\\"sum\\\"}],\\\"columns\\\":[{\\\"dragId\\\":\\\"gw_Uehi\\\",\\\"fid\\\":\\\"GW_3KUQJDWW\\\",\\\"name\\\":\\\"ANO\\\",\\\"basename\\\":\\\"ANO\\\",\\\"semanticType\\\":\\\"nominal\\\",\\\"analyticType\\\":\\\"dimension\\\"}],\\\"color\\\":[{\\\"dragId\\\":\\\"gw_NIkG\\\",\\\"fid\\\":\\\"GW_LYXXXB98IDH8DLXO1WWNFOW\\\",\\\"name\\\":\\\"INFORMAÇÕES\\\",\\\"basename\\\":\\\"INFORMAÇÕES\\\",\\\"semanticType\\\":\\\"nominal\\\",\\\"analyticType\\\":\\\"dimension\\\"}],\\\"opacity\\\":[],\\\"size\\\":[],\\\"shape\\\":[],\\\"radius\\\":[],\\\"theta\\\":[],\\\"longitude\\\":[],\\\"latitude\\\":[],\\\"geoId\\\":[],\\\"details\\\":[],\\\"filters\\\":[],\\\"text\\\":[]},\\\"config\\\":{\\\"defaultAggregated\\\":true,\\\"geoms\\\":[\\\"auto\\\"],\\\"showTableSummary\\\":false,\\\"coordSystem\\\":\\\"generic\\\",\\\"stack\\\":\\\"stack\\\",\\\"showActions\\\":false,\\\"interactiveScale\\\":false,\\\"sorted\\\":\\\"none\\\",\\\"zeroScale\\\":true,\\\"scaleIncludeUnmatchedChoropleth\\\":false,\\\"size\\\":{\\\"mode\\\":\\\"fixed\\\",\\\"width\\\":792,\\\"height\\\":504},\\\"format\\\":{},\\\"geoKey\\\":\\\"name\\\",\\\"resolve\\\":{\\\"x\\\":false,\\\"y\\\":false,\\\"color\\\":false,\\\"opacity\\\":false,\\\"shape\\\":false,\\\"size\\\":false},\\\"limit\\\":-1}}]\",\"chart_map\":{},\"version\":\"0.3.5\"}\"\"\"\n",
        "pyg.walk(result_df, spec=vis_spec)"
      ],
      "metadata": {
        "id": "sCougawFluyj"
      },
      "execution_count": null,
      "outputs": []
    },
    {
      "cell_type": "code",
      "source": [
        "result = pd.DataFrame(columns=['ANO', 'VALOR', 'ÓRGÃO'])\n",
        "\n",
        "for ano in range(2013, 2024):\n",
        "\n",
        "    filtered = ANOS[(ANOS['ANO EXTRATO'].astype(int) == ano)]\n",
        "\n",
        "    filtered['VALOR TRANSAÇÃO'] = filtered['VALOR TRANSAÇÃO'].astype(str).str.replace(',', '.').astype(float)\n",
        "    filtered_0 = filtered.loc[filtered['CÓDIGO ÓRGÃO SUPERIOR'] == 63000]\n",
        "    filtered_1 = filtered.loc[filtered['CÓDIGO ÓRGÃO SUPERIOR'] == 25201]\n",
        "    filtered_2 = filtered.loc[filtered['CÓDIGO ÓRGÃO SUPERIOR'] == 37000]\n",
        "    filtered_3 = filtered.loc[filtered['CÓDIGO ÓRGÃO SUPERIOR'] == 25000]\n",
        "    filtered_4 = filtered.loc[filtered['CÓDIGO ÓRGÃO SUPERIOR'] == 36000]\n",
        "    filtered_5 = filtered.loc[filtered['CÓDIGO ÓRGÃO SUPERIOR'] == 30000]\n",
        "    filtered_6 = filtered.loc[filtered['CÓDIGO ÓRGÃO SUPERIOR'] == 44000]\n",
        "    filtered_7 = filtered.loc[filtered['CÓDIGO ÓRGÃO SUPERIOR'] == 26000]\n",
        "    filtered_8 = filtered.loc[filtered['CÓDIGO ÓRGÃO SUPERIOR'] == 35000]\n",
        "    filtered_9 = filtered.loc[filtered['CÓDIGO ÓRGÃO SUPERIOR'] == 20000]\n",
        "\n",
        "    # Somar os valores da coluna 'VALOR TRANSAÇÃO' para os casos filtrados\n",
        "    soma_0 = filtered_0['VALOR TRANSAÇÃO'].sum()\n",
        "    soma_1 = filtered_1['VALOR TRANSAÇÃO'].sum()\n",
        "    soma_2 = filtered_2['VALOR TRANSAÇÃO'].sum()\n",
        "    soma_3 = filtered_3['VALOR TRANSAÇÃO'].sum()\n",
        "    soma_4 = filtered_4['VALOR TRANSAÇÃO'].sum()\n",
        "    soma_5 = filtered_5['VALOR TRANSAÇÃO'].sum()\n",
        "    soma_6 = filtered_6['VALOR TRANSAÇÃO'].sum()\n",
        "    soma_7 = filtered_7['VALOR TRANSAÇÃO'].sum()\n",
        "    soma_8 = filtered_8['VALOR TRANSAÇÃO'].sum()\n",
        "    soma_9 = filtered_9['VALOR TRANSAÇÃO'].sum()\n",
        "    soma_total = filtered['VALOR TRANSAÇÃO'].sum()\n",
        "    valor = soma_total - (soma_0 + soma_1 + soma_2 + soma_3 + soma_4 + soma_5 + soma_6 + soma_7 + soma_8 + soma_9)\n",
        "\n",
        "\n",
        "    # Adicionar os resultados ao DataFrame\n",
        "    result = result.append({'ANO': ano,\n",
        "                                  'VALOR': valor,\n",
        "                                  'ÓRGÃO': 'Outros Ministérios'}, ignore_index=True)\n",
        "    result = result.append({'ANO': ano,\n",
        "                                  'VALOR': soma_0,\n",
        "                                  'ÓRGÃO': 'Advocacia Geral da União'}, ignore_index=True)\n",
        "    result = result.append({'ANO': ano,\n",
        "                                  'VALOR': soma_1,\n",
        "                                  'ÓRGÃO': 'Banco Central do Brasil'}, ignore_index=True)\n",
        "    result = result.append({'ANO': ano,\n",
        "                                  'VALOR': soma_2,\n",
        "                                  'ÓRGÃO': 'Controladoria Geral da União'}, ignore_index=True)\n",
        "    result = result.append({'ANO': ano,\n",
        "                                  'VALOR': soma_3,\n",
        "                                  'ÓRGÃO': 'Ministério da Economia'}, ignore_index=True)\n",
        "    result = result.append({'ANO': ano,\n",
        "                                  'VALOR': soma_4,\n",
        "                                  'ÓRGÃO': 'Ministério da Saúde'}, ignore_index=True)\n",
        "    result = result.append({'ANO': ano,\n",
        "                                  'VALOR': soma_5,\n",
        "                                  'ÓRGÃO': 'Ministério da Justiça e Segurança Pública'}, ignore_index=True)\n",
        "    result = result.append({'ANO': ano,\n",
        "                                  'VALOR': soma_6,\n",
        "                                  'ÓRGÃO': 'Ministério do Meio Ambiente'}, ignore_index=True)\n",
        "    result = result.append({'ANO': ano,\n",
        "                                  'VALOR': soma_7,\n",
        "                                  'ÓRGÃO': 'Ministério da Educação'}, ignore_index=True)\n",
        "    result = result.append({'ANO': ano,\n",
        "                                  'VALOR': soma_8,\n",
        "                                  'ÓRGÃO': 'Ministério das Relações Exteriores'}, ignore_index=True)\n",
        "    result = result.append({'ANO': ano,\n",
        "                                  'VALOR': soma_9,\n",
        "                                  'ÓRGÃO': 'Presidência da República'}, ignore_index=True)\n",
        "\n",
        "vis_spec = r\"\"\"{\"config\":\"[{\\\"visId\\\":\\\"gw_-ALt\\\",\\\"name\\\":\\\"Chart 1\\\",\\\"encodings\\\":{\\\"dimensions\\\":[{\\\"dragId\\\":\\\"gw_2lN5\\\",\\\"fid\\\":\\\"GW_3KUQJDWW\\\",\\\"name\\\":\\\"ANO\\\",\\\"basename\\\":\\\"ANO\\\",\\\"semanticType\\\":\\\"nominal\\\",\\\"analyticType\\\":\\\"dimension\\\"},{\\\"dragId\\\":\\\"gw_5kdB\\\",\\\"fid\\\":\\\"GW_L5DUHA5SH7GYSW\\\",\\\"name\\\":\\\"ÓRGÃO\\\",\\\"basename\\\":\\\"ÓRGÃO\\\",\\\"semanticType\\\":\\\"nominal\\\",\\\"analyticType\\\":\\\"dimension\\\"}],\\\"measures\\\":[{\\\"dragId\\\":\\\"gw_gJod\\\",\\\"fid\\\":\\\"GW_6N2272UBN00\\\",\\\"name\\\":\\\"VALOR\\\",\\\"basename\\\":\\\"VALOR\\\",\\\"analyticType\\\":\\\"measure\\\",\\\"semanticType\\\":\\\"quantitative\\\",\\\"aggName\\\":\\\"sum\\\"},{\\\"dragId\\\":\\\"gw_count_fid\\\",\\\"fid\\\":\\\"gw_count_fid\\\",\\\"name\\\":\\\"Row count\\\",\\\"analyticType\\\":\\\"measure\\\",\\\"semanticType\\\":\\\"quantitative\\\",\\\"aggName\\\":\\\"sum\\\",\\\"computed\\\":true,\\\"expression\\\":{\\\"op\\\":\\\"one\\\",\\\"params\\\":[],\\\"as\\\":\\\"gw_count_fid\\\"}}],\\\"rows\\\":[{\\\"dragId\\\":\\\"gw_hTg3\\\",\\\"fid\\\":\\\"GW_6N2272UBN00\\\",\\\"name\\\":\\\"VALOR\\\",\\\"basename\\\":\\\"VALOR\\\",\\\"analyticType\\\":\\\"measure\\\",\\\"semanticType\\\":\\\"quantitative\\\",\\\"aggName\\\":\\\"sum\\\"}],\\\"columns\\\":[{\\\"dragId\\\":\\\"gw_BkWf\\\",\\\"fid\\\":\\\"GW_3KUQJDWW\\\",\\\"name\\\":\\\"ANO\\\",\\\"basename\\\":\\\"ANO\\\",\\\"semanticType\\\":\\\"nominal\\\",\\\"analyticType\\\":\\\"dimension\\\"}],\\\"color\\\":[{\\\"dragId\\\":\\\"gw_zzwh\\\",\\\"fid\\\":\\\"GW_L5DUHA5SH7GYSW\\\",\\\"name\\\":\\\"ÓRGÃO\\\",\\\"basename\\\":\\\"ÓRGÃO\\\",\\\"semanticType\\\":\\\"nominal\\\",\\\"analyticType\\\":\\\"dimension\\\"}],\\\"opacity\\\":[],\\\"size\\\":[],\\\"shape\\\":[],\\\"radius\\\":[],\\\"theta\\\":[],\\\"longitude\\\":[],\\\"latitude\\\":[],\\\"geoId\\\":[],\\\"details\\\":[],\\\"filters\\\":[],\\\"text\\\":[]},\\\"config\\\":{\\\"defaultAggregated\\\":true,\\\"geoms\\\":[\\\"auto\\\"],\\\"showTableSummary\\\":false,\\\"coordSystem\\\":\\\"generic\\\",\\\"stack\\\":\\\"stack\\\",\\\"showActions\\\":false,\\\"interactiveScale\\\":false,\\\"sorted\\\":\\\"none\\\",\\\"zeroScale\\\":true,\\\"scaleIncludeUnmatchedChoropleth\\\":false,\\\"size\\\":{\\\"mode\\\":\\\"fixed\\\",\\\"width\\\":792,\\\"height\\\":504},\\\"format\\\":{},\\\"geoKey\\\":\\\"name\\\",\\\"resolve\\\":{\\\"x\\\":false,\\\"y\\\":false,\\\"color\\\":false,\\\"opacity\\\":false,\\\"shape\\\":false,\\\"size\\\":false},\\\"limit\\\":-1}}]\",\"chart_map\":{},\"version\":\"0.3.5\"}\"\"\"\n",
        "pyg.walk(result, spec=vis_spec)"
      ],
      "metadata": {
        "id": "318jlf4Jv_VX"
      },
      "execution_count": null,
      "outputs": []
    },
    {
      "cell_type": "code",
      "source": [
        "result_df = pd.DataFrame(columns=['ANO', 'VALOR', 'INFORMAÇÕES'])\n",
        "\n",
        "for ano in range(2013, 2024):\n",
        "\n",
        "    filtered_data = ANOS[(ANOS['ANO EXTRATO'].astype(int) == ano)]\n",
        "    filtered_case_1 = filtered_data.loc[filtered_data['CNPJ OU CPF FAVORECIDO'] == -1]\n",
        "    filtered_case_2 = filtered_data.loc[filtered_data['CNPJ OU CPF FAVORECIDO'] == -2]\n",
        "    filtered_case_11 = filtered_data.loc[filtered_data['CNPJ OU CPF FAVORECIDO'] == -11]\n",
        "\n",
        "    filtered_case_1['VALOR TRANSAÇÃO'] = filtered_case_1['VALOR TRANSAÇÃO'].astype(str).str.replace(',', '.').astype(float)\n",
        "    filtered_case_2['VALOR TRANSAÇÃO'] = filtered_case_2['VALOR TRANSAÇÃO'].astype(str).str.replace(',', '.').astype(float)\n",
        "    filtered_case_11['VALOR TRANSAÇÃO'] = filtered_case_11['VALOR TRANSAÇÃO'].astype(str).str.replace(',', '.').astype(float)\n",
        "    filtered_data['VALOR TRANSAÇÃO'] = filtered_data['VALOR TRANSAÇÃO'].astype(str).str.replace(',', '.').astype(float)\n",
        "\n",
        "    # Somar os valores da coluna 'VALOR TRANSAÇÃO' para os casos filtrados\n",
        "    soma_valores_caso1 = filtered_case_1['VALOR TRANSAÇÃO'].sum()\n",
        "    soma_valores_caso2 = filtered_case_2['VALOR TRANSAÇÃO'].sum()\n",
        "    soma_valores_caso11 = filtered_case_11['VALOR TRANSAÇÃO'].sum()\n",
        "    soma_valores_total = filtered_data['VALOR TRANSAÇÃO'].sum()\n",
        "    valor = soma_valores_total - (soma_valores_caso1 + soma_valores_caso2 + soma_valores_caso11)\n",
        "\n",
        "\n",
        "    # Adicionar os resultados ao DataFrame\n",
        "    result_df = result_df.append({'ANO': ano,\n",
        "                                  'VALOR': valor,\n",
        "                                  'INFORMAÇÕES': 'Informações Visivéis'}, ignore_index=True)\n",
        "    result_df = result_df.append({'ANO': ano,\n",
        "                                  'VALOR': soma_valores_caso1,\n",
        "                                  'INFORMAÇÕES': 'Sem Informação'}, ignore_index=True)\n",
        "    result_df = result_df.append({'ANO': ano,\n",
        "                                  'VALOR': soma_valores_caso2,\n",
        "                                  'INFORMAÇÕES': 'Não se Aplica'}, ignore_index=True)\n",
        "    result_df = result_df.append({'ANO': ano,\n",
        "                                  'VALOR': soma_valores_caso11,\n",
        "                                  'INFORMAÇÕES': 'Sigiloso'}, ignore_index=True)\n",
        "\n",
        "vis_spec = r\"\"\"{\"config\":\"[{\\\"visId\\\":\\\"gw_W1cC\\\",\\\"name\\\":\\\"Chart 1\\\",\\\"encodings\\\":{\\\"dimensions\\\":[{\\\"dragId\\\":\\\"gw_QJYT\\\",\\\"fid\\\":\\\"GW_3KUQJDWW\\\",\\\"name\\\":\\\"ANO\\\",\\\"basename\\\":\\\"ANO\\\",\\\"semanticType\\\":\\\"nominal\\\",\\\"analyticType\\\":\\\"dimension\\\"},{\\\"dragId\\\":\\\"gw_VZ45\\\",\\\"fid\\\":\\\"GW_LYXXXB98IDH8DLXO1WWNFOW\\\",\\\"name\\\":\\\"INFORMAÇÕES\\\",\\\"basename\\\":\\\"INFORMAÇÕES\\\",\\\"semanticType\\\":\\\"nominal\\\",\\\"analyticType\\\":\\\"dimension\\\"}],\\\"measures\\\":[{\\\"dragId\\\":\\\"gw_Degi\\\",\\\"fid\\\":\\\"GW_6N2272UBN00\\\",\\\"name\\\":\\\"VALOR\\\",\\\"basename\\\":\\\"VALOR\\\",\\\"analyticType\\\":\\\"measure\\\",\\\"semanticType\\\":\\\"quantitative\\\",\\\"aggName\\\":\\\"sum\\\"},{\\\"dragId\\\":\\\"gw_count_fid\\\",\\\"fid\\\":\\\"gw_count_fid\\\",\\\"name\\\":\\\"Row count\\\",\\\"analyticType\\\":\\\"measure\\\",\\\"semanticType\\\":\\\"quantitative\\\",\\\"aggName\\\":\\\"sum\\\",\\\"computed\\\":true,\\\"expression\\\":{\\\"op\\\":\\\"one\\\",\\\"params\\\":[],\\\"as\\\":\\\"gw_count_fid\\\"}}],\\\"rows\\\":[{\\\"dragId\\\":\\\"gw_u8gQ\\\",\\\"fid\\\":\\\"GW_6N2272UBN00\\\",\\\"name\\\":\\\"VALOR\\\",\\\"basename\\\":\\\"VALOR\\\",\\\"analyticType\\\":\\\"measure\\\",\\\"semanticType\\\":\\\"quantitative\\\",\\\"aggName\\\":\\\"sum\\\"}],\\\"columns\\\":[{\\\"dragId\\\":\\\"gw_hJXM\\\",\\\"fid\\\":\\\"GW_3KUQJDWW\\\",\\\"name\\\":\\\"ANO\\\",\\\"basename\\\":\\\"ANO\\\",\\\"semanticType\\\":\\\"nominal\\\",\\\"analyticType\\\":\\\"dimension\\\"}],\\\"color\\\":[{\\\"dragId\\\":\\\"gw_VYMf\\\",\\\"fid\\\":\\\"GW_LYXXXB98IDH8DLXO1WWNFOW\\\",\\\"name\\\":\\\"INFORMAÇÕES\\\",\\\"basename\\\":\\\"INFORMAÇÕES\\\",\\\"semanticType\\\":\\\"nominal\\\",\\\"analyticType\\\":\\\"dimension\\\"}],\\\"opacity\\\":[],\\\"size\\\":[],\\\"shape\\\":[],\\\"radius\\\":[],\\\"theta\\\":[],\\\"longitude\\\":[],\\\"latitude\\\":[],\\\"geoId\\\":[],\\\"details\\\":[],\\\"filters\\\":[],\\\"text\\\":[]},\\\"config\\\":{\\\"defaultAggregated\\\":false,\\\"geoms\\\":[\\\"auto\\\"],\\\"showTableSummary\\\":false,\\\"coordSystem\\\":\\\"generic\\\",\\\"stack\\\":\\\"stack\\\",\\\"showActions\\\":false,\\\"interactiveScale\\\":false,\\\"sorted\\\":\\\"none\\\",\\\"zeroScale\\\":true,\\\"scaleIncludeUnmatchedChoropleth\\\":false,\\\"size\\\":{\\\"mode\\\":\\\"fixed\\\",\\\"width\\\":792,\\\"height\\\":504},\\\"format\\\":{},\\\"geoKey\\\":\\\"name\\\",\\\"resolve\\\":{\\\"x\\\":false,\\\"y\\\":false,\\\"color\\\":false,\\\"opacity\\\":false,\\\"shape\\\":false,\\\"size\\\":false},\\\"limit\\\":-1}}]\",\"chart_map\":{},\"version\":\"0.3.5\"}\"\"\"\n",
        "pyg.walk(result_df, spec=vis_spec)"
      ],
      "metadata": {
        "id": "u2GOOV1wR_FX"
      },
      "execution_count": null,
      "outputs": []
    }
  ]
}